{
 "cells": [
  {
   "cell_type": "code",
   "execution_count": 1,
   "metadata": {
    "collapsed": true
   },
   "outputs": [],
   "source": [
    "import tensorflow as tf\n",
    "import numpy as np\n",
    "import vgg19\n",
    "import matplotlib.pyplot as plt\n",
    "import utils"
   ]
  },
  {
   "cell_type": "code",
   "execution_count": 2,
   "metadata": {
    "collapsed": true
   },
   "outputs": [],
   "source": [
    "i_max = 100\n",
    "\n",
    "device = '/cpu:0'\n",
    "show = False"
   ]
  },
  {
   "cell_type": "code",
   "execution_count": 3,
   "metadata": {
    "collapsed": true
   },
   "outputs": [],
   "source": [
    "def gram_matrix(F, N, M):\n",
    "    Ft = tf.reshape(F, (M, N))\n",
    "    if M < N:\n",
    "        return tf.matmul(Ft,tf.transpose(Ft))\n",
    "    else:\n",
    "        return tf.matmul(tf.transpose(Ft), Ft)"
   ]
  },
  {
   "cell_type": "code",
   "execution_count": 4,
   "metadata": {
    "collapsed": true
   },
   "outputs": [],
   "source": [
    "def create_noise_image(width, height):\n",
    "    image = np.random.uniform(-32,32, (1, height, width, 3)).astype('float32')\n",
    "    \n",
    "    if(show == True):\n",
    "        plt.imshow(image.reshape(height,width,3))\n",
    "        plt.show()\n",
    "    return image"
   ]
  },
  {
   "cell_type": "code",
   "execution_count": 5,
   "metadata": {
    "collapsed": true
   },
   "outputs": [],
   "source": [
    "def get_layers(image, scope):      \n",
    "    #vgg\n",
    "    vgg = vgg19.Vgg19()\n",
    "    \n",
    "    with tf.name_scope(scope):\n",
    "        vgg.build(image)\n",
    "\n",
    "    #layers = [vgg.pool4, vgg.pool3, vgg.pool2, vgg.pool1, vgg.conv1_1]\n",
    "    layers = [vgg.conv1_1]\n",
    "    \n",
    "    return layers"
   ]
  },
  {
   "cell_type": "code",
   "execution_count": 6,
   "metadata": {
    "collapsed": false
   },
   "outputs": [
    {
     "name": "stdout",
     "output_type": "stream",
     "text": [
      "/home/rwjoverwater/in4015/vgg19.npy\n",
      "npy file loaded\n",
      "build model started\n",
      "build model finished: 0s\n",
      "[[  1.56493328e+24   2.41386342e+22   5.71087958e+22 ...,   3.23511508e+22\n",
      "    1.65885553e+23   4.25030890e+23]\n",
      " [  2.41386342e+22   1.47041661e+22   7.64544246e+21 ...,   1.54983880e+21\n",
      "    1.99992790e+22   2.22578477e+22]\n",
      " [  5.71087958e+22   7.64544246e+21   2.01847530e+22 ...,   3.31564265e+21\n",
      "    5.95728728e+22   8.45624689e+22]\n",
      " ..., \n",
      " [  3.23511508e+22   1.54983880e+21   3.31564265e+21 ...,   3.61423508e+22\n",
      "    2.72415108e+22   3.12417746e+22]\n",
      " [  1.65885553e+23   1.99992790e+22   5.95728728e+22 ...,   2.72415108e+22\n",
      "    6.27227345e+23   6.07713356e+23]\n",
      " [  4.25030890e+23   2.22578477e+22   8.45624689e+22 ...,   3.12417746e+22\n",
      "    6.07713356e+23   8.57581422e+23]]\n",
      "2.41307e+26\n"
     ]
    }
   ],
   "source": [
    "with tf.device(device):\n",
    "    sess = tf.InteractiveSession()\n",
    "    \n",
    "    \n",
    "    #create target image\n",
    "    target_img = (create_noise_image(224, 224))\n",
    "    \n",
    "    #create variables                 \n",
    "    target = tf.Variable(target_img, tf.float32)\n",
    "    \n",
    "    #target vgg\n",
    "    target_layers = get_layers(target, \"target\")\n",
    "    \n",
    "    sess.run(tf.global_variables_initializer())\n",
    "    \n",
    "    gram = []\n",
    "    #go through layers\n",
    "    for tl in target_layers:\n",
    "        #get dimensions\n",
    "        dimensions = tl.get_shape().as_list()\n",
    "        size = dimensions[3]*dimensions[2]*dimensions[1]\n",
    "        \n",
    "        #get gram\n",
    "        g = sess.run(gram_matrix(tl, dimensions[3], dimensions[2]*dimensions[1]))\n",
    "        gram.append(g)\n",
    "        \n",
    "        rows = g.shape[0]\n",
    "        cols = g.shape[1]\n",
    "        \n",
    "        if(show == True):\n",
    "            for i in range(rows):\n",
    "                for j in range(cols):\n",
    "                    print(g[i][j], end = '')\n",
    "                    print(' ', end = '')\n",
    "                print(';', end = '')\n",
    "        \n",
    "        print(sess.run(tf.square(g)))\n",
    "        print(sess.run(tf.reduce_sum(tf.square(g))))\n",
    "        "
   ]
  },
  {
   "cell_type": "code",
   "execution_count": null,
   "metadata": {
    "collapsed": true
   },
   "outputs": [],
   "source": []
  }
 ],
 "metadata": {
  "kernelspec": {
   "display_name": "Python 3",
   "language": "python",
   "name": "python3"
  },
  "language_info": {
   "codemirror_mode": {
    "name": "ipython",
    "version": 3
   },
   "file_extension": ".py",
   "mimetype": "text/x-python",
   "name": "python",
   "nbconvert_exporter": "python",
   "pygments_lexer": "ipython3",
   "version": "3.6.0"
  }
 },
 "nbformat": 4,
 "nbformat_minor": 2
}

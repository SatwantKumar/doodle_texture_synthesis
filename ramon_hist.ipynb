{
 "cells": [
  {
   "cell_type": "code",
   "execution_count": null,
   "metadata": {
    "collapsed": false,
    "scrolled": false
   },
   "outputs": [],
   "source": [
    "import tensorflow as tf\n",
    "import numpy as np\n",
    "import vgg19\n",
    "import matplotlib.pyplot as plt\n",
    "import utils"
   ]
  },
  {
   "cell_type": "code",
   "execution_count": null,
   "metadata": {
    "collapsed": true,
    "scrolled": false
   },
   "outputs": [],
   "source": [
    "#img = tf.placeholder(tf.float32, [None, 224, 224, 3])\n",
    "i_max = 1000\n",
    "i_print = 10\n",
    "\n",
    "#noise_center - noise_weight , noise_center + noise_weight\n",
    "noise_min = 0.48\n",
    "noise_max = 0.5\n",
    "\n",
    "device = '/cpu:0'\n",
    "show = True\n",
    "\n",
    "#layers = [vgg.pool4, vgg.pool3, vgg.pool2, vgg.pool1, vgg.conv1_1]\n",
    "style_gram_weight = [0.1, 0.3, 0.6, 0.9, 1.0]\n",
    "style_histogram_weight = [1.0, 1.0]\n",
    "gram_weight = 1.0\n",
    "histogram_weight = 0.10\n",
    "\n",
    "hist_range = [-256.0,256.0]\n",
    "hist_size = 100"
   ]
  },
  {
   "cell_type": "code",
   "execution_count": null,
   "metadata": {
    "collapsed": false,
    "scrolled": false
   },
   "outputs": [],
   "source": [
    "def gram_matrix(F, N, M):\n",
    "    Ft = tf.reshape(F, (M, N))\n",
    "    if M < N:\n",
    "        return tf.matmul(Ft,tf.transpose(Ft))\n",
    "    else:\n",
    "        return tf.matmul(tf.transpose(Ft), Ft)"
   ]
  },
  {
   "cell_type": "code",
   "execution_count": null,
   "metadata": {
    "collapsed": false,
    "scrolled": false
   },
   "outputs": [],
   "source": [
    "def create_noise_image(width, height, noise_min = 0.0, noise_max = 1.0):\n",
    "    image = np.random.uniform(noise_min,noise_max, (1, height, width, 3)).astype('float32')\n",
    "    \n",
    "    if(show == True):\n",
    "        plt.imshow(image.reshape(height,width,3))\n",
    "        plt.show()\n",
    "    return image"
   ]
  },
  {
   "cell_type": "code",
   "execution_count": null,
   "metadata": {
    "collapsed": false,
    "scrolled": false
   },
   "outputs": [],
   "source": [
    "def get_image(path):\n",
    "    #load image\n",
    "    img_input = utils.load_image(path)\n",
    "    img = img_input.reshape((1, 224, 224, 3))\n",
    "    \n",
    "    #show image\n",
    "    if(show == True):\n",
    "        plt.imshow(img_input.reshape((224,224,3)))\n",
    "        plt.show()\n",
    "        \n",
    "    return img"
   ]
  },
  {
   "cell_type": "code",
   "execution_count": null,
   "metadata": {
    "collapsed": false,
    "scrolled": false
   },
   "outputs": [],
   "source": [
    "def get_gram_loss(target_layers, input_layers):\n",
    "    gram_losses = []\n",
    "    #go through layers\n",
    "    for tl, il, w in zip(target_layers, input_layers, style_gram_weight):\n",
    "        #get dimensions\n",
    "        dimensions = tl.get_shape().as_list()\n",
    "        size = dimensions[3]*dimensions[2]*dimensions[1]\n",
    "        \n",
    "        #get gram\n",
    "        target_gram = gram_matrix(tl, dimensions[3], dimensions[2]*dimensions[1])\n",
    "        input_gram = gram_matrix(il, dimensions[3], dimensions[2]*dimensions[1])\n",
    "        \n",
    "        #get losses\n",
    "        gram_losses.append(gram_weight * w * tf.reduce_sum(tf.square(target_gram - input_gram)) / size**2 )\n",
    "    \n",
    "    #get gram_loss\n",
    "    gram_loss = tf.reduce_sum(gram_losses)\n",
    "    \n",
    "    return gram_loss"
   ]
  },
  {
   "cell_type": "code",
   "execution_count": null,
   "metadata": {
    "collapsed": false
   },
   "outputs": [],
   "source": [
    "def get_histogram_loss(target_layers, input_layers):\n",
    "    histogram_losses = []\n",
    "    #go through layers\n",
    "    for tl, il, w in zip(target_layers, input_layers, style_histogram_weight):\n",
    "        #get dimensions\n",
    "        dimensions = tl.get_shape().as_list()\n",
    "        size = dimensions[3]*dimensions[2]*dimensions[1]\n",
    "        \n",
    "        for featureIdx in range(dimensions[3]):\n",
    "            tfeat = tf.squeeze(tf.slice(tl,[0,0,0,featureIdx],[1,dimensions[1],dimensions[2],1]))\n",
    "            ifeat = tf.squeeze(tf.slice(il,[0,0,0,featureIdx],[1,dimensions[1],dimensions[2],1]))\n",
    "            \n",
    "            # Get the history matching of the texture on the input\n",
    "            r_o = utils.feature_histogram_matching(tfeat, ifeat, hist_range, hist_size)\n",
    "\n",
    "            # loss = euclidean distance between the output and the histogram remapped output\n",
    "            histogram_losses.append(histogram_weight * w * tf.reduce_sum(tf.square(tfeat - r_o)))\n",
    "    \n",
    "    #get total histogramloss\n",
    "    histogram_loss = tf.reduce_sum(histogram_losses)\n",
    "    \n",
    "    #return histogram_loss\n",
    "    return histogram_loss"
   ]
  },
  {
   "cell_type": "code",
   "execution_count": null,
   "metadata": {
    "collapsed": false,
    "scrolled": false
   },
   "outputs": [],
   "source": [
    "#create style data from style image\n",
    "with tf.device(device):\n",
    "    sess = tf.Session()\n",
    "    \n",
    "    #load style image\n",
    "    input_img = get_image(\"./test_data/starrynight_small.jpg\")  \n",
    "\n",
    "    #input vgg\n",
    "    input_image = tf.constant(input_img, tf.float32)\n",
    "    \n",
    "    #create style vgg()\n",
    "    vgg = vgg19.Vgg19()    \n",
    "    with tf.name_scope(\"style\"):\n",
    "        vgg.build(input_image)\n",
    "    \n",
    "    #layers\n",
    "    style_layers = sess.run([vgg.pool4, vgg.pool3, vgg.pool2, vgg.pool1, vgg.conv1_1, vgg.conv4_1])\n",
    "    \n",
    "    #loop through layers and assign to style layers\n",
    "    style_gram_layers = [tf.constant(style_layers[0]), tf.constant(style_layers[1]), tf.constant(style_layers[2]),\n",
    "                    tf.constant(style_layers[3]), tf.constant(style_layers[4])]\n",
    "    style_histogram_layers = [tf.constant(style_layers[5]), tf.constant(style_layers[4])]"
   ]
  },
  {
   "cell_type": "code",
   "execution_count": null,
   "metadata": {
    "collapsed": false,
    "scrolled": false
   },
   "outputs": [],
   "source": [
    "    #create target image\n",
    "    target = tf.Variable((create_noise_image(224, 224, noise_min, noise_max)), tf.float32)\n",
    "                 \n",
    "    #create vgg  \n",
    "    vgg = vgg19.Vgg19() \n",
    "    with tf.name_scope(\"target\"):\n",
    "        vgg.build(target)                 \n",
    "    \n",
    "    #target vgg\n",
    "    target_gram_layers = [vgg.pool4, vgg.pool3, vgg.pool2, vgg.pool1, vgg.conv1_1]\n",
    "    target_histogram_layers = [vgg.conv4_1, vgg.conv1_1]\n"
   ]
  },
  {
   "cell_type": "code",
   "execution_count": null,
   "metadata": {
    "collapsed": false,
    "scrolled": false
   },
   "outputs": [],
   "source": [
    "    #get losses\n",
    "    loss = []\n",
    "    \n",
    "    loss.append(get_gram_loss(target_gram_layers, style_gram_layers))\n",
    "    loss.append(get_histogram_loss(target_histogram_layers, style_histogram_layers))\n",
    "    \n",
    "    #loss = tf.log(loss)"
   ]
  },
  {
   "cell_type": "code",
   "execution_count": null,
   "metadata": {
    "collapsed": false,
    "scrolled": false
   },
   "outputs": [],
   "source": [
    "    #handlers\n",
    "    optimizer = tf.train.AdamOptimizer(0.1)\n",
    "    minimize = optimizer.minimize(tf.reduce_sum(loss))\n",
    "    \n",
    "    #init\n",
    "    sess.run(tf.global_variables_initializer())\n",
    "    \n",
    "    #print(sess.run(loss))\n",
    "    "
   ]
  },
  {
   "cell_type": "code",
   "execution_count": null,
   "metadata": {
    "collapsed": false,
    "scrolled": false
   },
   "outputs": [],
   "source": [
    "    for i in range(i_max):\n",
    "        \n",
    "                                                                                                                                                                                                                                                                                                                                                                                                                                                                                                                                                                                                                                                                                                                                                                                                            #optimize step\n",
    "        sess.run(minimize)\n",
    "        #clip\n",
    "        target = tf.maximum(tf.minimum(target,1),0)\n",
    "        \n",
    "        progress = ((i+1)%i_print)/i_print*100\n",
    "        if(round(progress) % 10 == 0):\n",
    "            print(progress, end = '% ')\n",
    "            print(' ', end = '')\n",
    "        \n",
    "        if((i+1) % i_print == 0):\n",
    "            \n",
    "            #print loss\n",
    "            #print(sess.run(target_layers, feed_dict = feed))\n",
    "            print('')\n",
    "            print(round((i+1)/i_print))\n",
    "            print(sess.run(loss))\n",
    "\n",
    "            #show image\n",
    "            if(show == True):\n",
    "                plt.imshow(sess.run(tf.reshape(target,(224,224,3))))\n",
    "                plt.show()\n",
    "\n",
    "    \n"
   ]
  },
  {
   "cell_type": "code",
   "execution_count": null,
   "metadata": {
    "collapsed": false,
    "scrolled": false
   },
   "outputs": [],
   "source": []
  },
  {
   "cell_type": "code",
   "execution_count": null,
   "metadata": {
    "collapsed": false,
    "scrolled": false
   },
   "outputs": [],
   "source": []
  },
  {
   "cell_type": "code",
   "execution_count": null,
   "metadata": {
    "collapsed": true
   },
   "outputs": [],
   "source": []
  }
 ],
 "metadata": {
  "kernelspec": {
   "display_name": "Python 3",
   "language": "python",
   "name": "python3"
  },
  "language_info": {
   "codemirror_mode": {
    "name": "ipython",
    "version": 3
   },
   "file_extension": ".py",
   "mimetype": "text/x-python",
   "name": "python",
   "nbconvert_exporter": "python",
   "pygments_lexer": "ipython3",
   "version": "3.6.0"
  }
 },
 "nbformat": 4,
 "nbformat_minor": 2
}

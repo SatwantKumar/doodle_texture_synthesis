{
 "cells": [
  {
   "cell_type": "code",
   "execution_count": 1,
   "metadata": {
    "collapsed": true
   },
   "outputs": [],
   "source": [
    "import tensorflow as tf\n",
    "import numpy as np\n",
    "import vgg19\n",
    "import utils"
   ]
  },
  {
   "cell_type": "code",
   "execution_count": 2,
   "metadata": {
    "collapsed": false
   },
   "outputs": [],
   "source": [
    "images = tf.placeholder(tf.float32, [None, 224, 224, 3])"
   ]
  },
  {
   "cell_type": "code",
   "execution_count": 3,
   "metadata": {
    "collapsed": false
   },
   "outputs": [
    {
     "name": "stderr",
     "output_type": "stream",
     "text": [
      "/Users/laurens/anaconda/lib/python3.6/site-packages/skimage/transform/_warps.py:84: UserWarning: The default mode, 'constant', will be changed to 'reflect' in skimage 0.15.\n",
      "  warn(\"The default mode, 'constant', will be changed to 'reflect' in \"\n",
      "/Users/laurens/anaconda/lib/python3.6/site-packages/skimage/transform/_warps.py:84: UserWarning: The default mode, 'constant', will be changed to 'reflect' in skimage 0.15.\n",
      "  warn(\"The default mode, 'constant', will be changed to 'reflect' in \"\n"
     ]
    },
    {
     "name": "stdout",
     "output_type": "stream",
     "text": [
      "/Users/laurens/in4015/vgg19.npy\n",
      "npy file loaded\n",
      "build model started\n",
      "build model finished: 1s\n",
      "[[  1.72403258e-10   2.88284202e-10   7.02236658e-10 ...,   1.24443664e-10\n",
      "    3.11250886e-10   1.54757949e-08]\n",
      " [  6.28803818e-08   5.31312537e-07   3.69946029e-08 ...,   1.62021237e-07\n",
      "    1.11792353e-07   9.53799918e-06]]\n",
      "('Top1: ', 'n02708093 analog clock', 0.70333904)\n",
      "('Top5: ', [('n02708093 analog clock', 0.70333904), ('n04548280 wall clock', 0.29613304), ('n02794156 barometer', 0.00020954033), ('n03196217 digital clock', 0.00011688007), ('n04328186 stopwatch, stop watch', 5.3108633e-05)])\n",
      "('Top1: ', 'n03598930 jigsaw puzzle', 0.99510217)\n",
      "('Top5: ', [('n03598930 jigsaw puzzle', 0.99510217), ('n03929660 pick, plectrum, plectron', 0.00043791131), ('n04447861 toilet seat', 0.00040328299), ('n02786058 Band Aid', 0.00032626395), ('n04116512 rubber eraser, rubber, pencil eraser', 0.00026485664)])\n"
     ]
    }
   ],
   "source": [
    "img1 = utils.load_image(\"./test_data/clock.jpg\")\n",
    "img2 = utils.load_image(\"./test_data/puzzle.jpeg\")\n",
    "\n",
    "batch1 = img1.reshape((1, 224, 224, 3))\n",
    "batch2 = img2.reshape((1, 224, 224, 3))\n",
    "\n",
    "batch = np.concatenate((batch1, batch2), 0)\n",
    "\n",
    "with tf.device('/cpu:0'):\n",
    "    with tf.Session() as sess:\n",
    "        images = tf.placeholder(\"float\", [2, 224, 224, 3])\n",
    "        feed_dict = {images: batch}\n",
    "\n",
    "        vgg = vgg19.Vgg19()\n",
    "        with tf.name_scope(\"content_vgg\"):\n",
    "            vgg.build(images)\n",
    "\n",
    "        prob = sess.run(vgg.prob, feed_dict=feed_dict)\n",
    "        print(prob)\n",
    "        utils.print_prob(prob[0], './synset.txt')\n",
    "        utils.print_prob(prob[1], './synset.txt')"
   ]
  },
  {
   "cell_type": "code",
   "execution_count": null,
   "metadata": {
    "collapsed": true
   },
   "outputs": [],
   "source": []
  }
 ],
 "metadata": {
  "kernelspec": {
   "display_name": "Python 3",
   "language": "python",
   "name": "python3"
  },
  "language_info": {
   "codemirror_mode": {
    "name": "ipython",
    "version": 3
   },
   "file_extension": ".py",
   "mimetype": "text/x-python",
   "name": "python",
   "nbconvert_exporter": "python",
   "pygments_lexer": "ipython3",
   "version": "3.6.0"
  }
 },
 "nbformat": 4,
 "nbformat_minor": 2
}

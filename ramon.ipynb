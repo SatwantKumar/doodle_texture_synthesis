{
 "cells": [
  {
   "cell_type": "code",
   "execution_count": null,
   "metadata": {
    "collapsed": true
   },
   "outputs": [],
   "source": [
    "import tensorflow as tf\n",
    "import numpy as np\n",
    "import vgg19\n",
    "import matplotlib.pyplot as plt\n",
    "import utils"
   ]
  },
  {
   "cell_type": "code",
   "execution_count": null,
   "metadata": {
    "collapsed": false
   },
   "outputs": [],
   "source": [
    "#img = tf.placeholder(tf.float32, [None, 224, 224, 3])\n",
    "i_max = 1000\n",
    "i_print = 100\n",
    "\n",
    "device = '/gpu:0'\n",
    "show = True"
   ]
  },
  {
   "cell_type": "code",
   "execution_count": null,
   "metadata": {
    "collapsed": true
   },
   "outputs": [],
   "source": [
    "def gram_matrix(F, N, M):\n",
    "    Ft = tf.reshape(F, (M, N))\n",
    "    if M < N:\n",
    "        return tf.matmul(Ft,tf.transpose(Ft))\n",
    "    else:\n",
    "        return tf.matmul(tf.transpose(Ft), Ft)"
   ]
  },
  {
   "cell_type": "code",
   "execution_count": null,
   "metadata": {
    "collapsed": false
   },
   "outputs": [],
   "source": [
    "def main_loss_function(x):\n",
    "    return"
   ]
  },
  {
   "cell_type": "code",
   "execution_count": null,
   "metadata": {
    "collapsed": true
   },
   "outputs": [],
   "source": [
    "def create_noise_image(width, height):\n",
    "    image = np.random.uniform(0.3,0.7, (1, height, width, 3)).astype('float32')\n",
    "    \n",
    "    if(show == True):\n",
    "        plt.imshow(image.reshape(height,width,3))\n",
    "        plt.show()\n",
    "    return image"
   ]
  },
  {
   "cell_type": "code",
   "execution_count": null,
   "metadata": {
    "collapsed": true
   },
   "outputs": [],
   "source": [
    "def get_image(path):\n",
    "    #load image\n",
    "    img_input = utils.load_image(path)\n",
    "    img = img_input.reshape((1, 224, 224, 3))\n",
    "    \n",
    "    #show image\n",
    "    if(show == True):\n",
    "        plt.imshow(img_input.reshape((224,224,3)))\n",
    "        plt.show()\n",
    "        \n",
    "    return img"
   ]
  },
  {
   "cell_type": "code",
   "execution_count": null,
   "metadata": {
    "collapsed": true
   },
   "outputs": [],
   "source": [
    "def get_layers(image, scope):      \n",
    "    #vgg\n",
    "    vgg = vgg19.Vgg19()\n",
    "    \n",
    "    with tf.name_scope(scope):\n",
    "        vgg.build(image)\n",
    "\n",
    "    layers = [vgg.pool4, vgg.pool3, vgg.pool2, vgg.pool1, vgg.conv1_1]\n",
    "    #layers = [vgg.conv1_1]\n",
    "    \n",
    "    return layers"
   ]
  },
  {
   "cell_type": "code",
   "execution_count": null,
   "metadata": {
    "collapsed": true
   },
   "outputs": [],
   "source": [
    "def get_gram_loss(target_layers, input_layers):\n",
    "    gram_losses = []\n",
    "    #go through layers\n",
    "    for tl, il in zip(target_layers, input_layers):\n",
    "        #get dimensions\n",
    "        dimensions = tl.get_shape().as_list()\n",
    "        size = dimensions[3]*dimensions[2]*dimensions[1]\n",
    "        \n",
    "        #get gram\n",
    "        target_gram = gram_matrix(tl, dimensions[3], dimensions[2]*dimensions[1])\n",
    "        input_gram = gram_matrix(il, dimensions[3], dimensions[2]*dimensions[1])\n",
    "        #gram_losses.append(tf.nn.l2_loss(target_gram))\n",
    "        #gram_losses.append(tf.nn.l2_loss(input_gram))\n",
    "        \n",
    "        #get losses\n",
    "        gram_losses.append(tf.log(tf.reduce_sum(tf.square(target_gram - input_gram)) / size ))\n",
    "    \n",
    "    #get gram_loss\n",
    "    gram_loss = tf.reduce_sum(gram_losses)\n",
    "    \n",
    "    return gram_losses"
   ]
  },
  {
   "cell_type": "code",
   "execution_count": null,
   "metadata": {
    "collapsed": false
   },
   "outputs": [],
   "source": [
    "def get_loss(target_layers, input_layers):\n",
    "    loss = 0\n",
    "    losses = []\n",
    "    \n",
    "    #gram loss\n",
    "    gram_loss = get_gram_loss(target_layers, input_layers) \n",
    "    \n",
    "    #get histogram matrices\n",
    "    \n",
    "    \n",
    "    \n",
    "\n",
    "    return gram_loss"
   ]
  },
  {
   "cell_type": "code",
   "execution_count": null,
   "metadata": {
    "collapsed": false
   },
   "outputs": [],
   "source": [
    "with tf.device(device):\n",
    "    sess = tf.InteractiveSession()\n",
    "        \n",
    "    #placeholders\n",
    "    input_image = tf.placeholder(tf.float32, [1, 224, 224, 3])\n",
    "    \n",
    "    #load style image\n",
    "    input_img = get_image(\"./test_data/tiger.jpeg\")\n",
    "    #create target image\n",
    "    target_img = (create_noise_image(224, 224))\n",
    "        \n",
    "    #fill feed dictionary\n",
    "    feed = {input_image: input_img}\n",
    "                 \n",
    "    #create variables                 \n",
    "    target = tf.Variable(target_img, tf.float32)\n",
    "            \n",
    "    #input vgg\n",
    "    style_layers = get_layers(input_image, \"style\")\n",
    "    #target vgg\n",
    "    target_layers = get_layers(target, \"target\")\n",
    "    \n",
    "    #get losses\n",
    "    loss = tf.reduce_sum(get_loss(target_layers, style_layers))\n",
    "    \n"
   ]
  },
  {
   "cell_type": "code",
   "execution_count": null,
   "metadata": {
    "collapsed": false
   },
   "outputs": [],
   "source": [
    "    \n",
    "    #handlers\n",
    "    optimizer = tf.train.GradientDescentOptimizer(1.0)\n",
    "    minimize = optimizer.minimize(loss)\n",
    "    \n",
    "    #init\n",
    "    sess.run(tf.global_variables_initializer())\n",
    "    \n",
    "    \n",
    "    print(sess.run(loss, feed_dict = feed))\n",
    "    print(sess.run(get_loss(target_layers, style_layers), feed_dict = feed))\n",
    "    \n",
    "    #show image\n",
    "    if(show == True):\n",
    "        plt.imshow(sess.run(tf.reshape(target,(224,224,3)), feed_dict = feed))\n",
    "        plt.show()\n",
    "    "
   ]
  },
  {
   "cell_type": "code",
   "execution_count": null,
   "metadata": {
    "collapsed": false
   },
   "outputs": [],
   "source": [
    "    for i in range(i_max):\n",
    "        \n",
    "        #optimize step\n",
    "        sess.run(minimize, feed_dict = feed)\n",
    "        \n",
    "        print(i, end = '')\n",
    "        print(' ', end = '')\n",
    "        \n",
    "        if((i+1) % i_print == 0):\n",
    "            \n",
    "            #print loss\n",
    "            #print(sess.run(target_layers, feed_dict = feed))\n",
    "            print('')\n",
    "            print(sess.run(loss, feed_dict = feed))\n",
    "            print(sess.run(get_loss(target_layers, style_layers), feed_dict = feed))\n",
    "\n",
    "            #show image\n",
    "            if(show == True):\n",
    "                plt.imshow(sess.run(tf.reshape(target,(224,224,3)), feed_dict = feed))\n",
    "                plt.show()\n",
    "\n",
    "    \n"
   ]
  },
  {
   "cell_type": "code",
   "execution_count": null,
   "metadata": {
    "collapsed": true
   },
   "outputs": [],
   "source": []
  },
  {
   "cell_type": "code",
   "execution_count": null,
   "metadata": {
    "collapsed": true
   },
   "outputs": [],
   "source": []
  }
 ],
 "metadata": {
  "kernelspec": {
   "display_name": "Python 3",
   "language": "python",
   "name": "python3"
  },
  "language_info": {
   "codemirror_mode": {
    "name": "ipython",
    "version": 3
   },
   "file_extension": ".py",
   "mimetype": "text/x-python",
   "name": "python",
   "nbconvert_exporter": "python",
   "pygments_lexer": "ipython3",
   "version": "3.6.0"
  }
 },
 "nbformat": 4,
 "nbformat_minor": 2
}
